{
 "cells": [
  {
   "cell_type": "markdown",
   "metadata": {},
   "source": [
    "## **Lesson 3 - Dictionary**\n",
    "\n",
    "### **`Dictionary - What is Dictionary?`**\n",
    "\n",
    "- **`List` & `Tuples`** = kedua-duanya sama menggunakan index untuk mengakses value\n",
    "- **`Dictionary`** = menggunakan key untuk mengakses value\n",
    "\n",
    "### **`Dictionary Practice`**\n",
    "\n",
    "- **`Dictionary`** = adalah tempat untuk menampung banyak item secara berurutan dan setiap itemnya memiliki **key** dan **value**.\n",
    "\n",
    "### **`Dictionary Practice - Part 1`**\n"
   ]
  },
  {
   "cell_type": "code",
   "execution_count": 2,
   "metadata": {},
   "outputs": [
    {
     "name": "stdout",
     "output_type": "stream",
     "text": [
      "{'title': 'Jumanji : The Next Level', 'year': 2017, 'genre': 'Adventure'}\n",
      "{'title': 'Frozen ll', 'year': 2019, 'genre': 'Family'}\n",
      "Jumanji : The Next Level\n",
      "{'title': 'Jumanji : The Next Level', 'genre': 'Adventure/Comedy', 'viewer': 44324578}\n"
     ]
    }
   ],
   "source": [
    "movie = {\n",
    "    'title': 'Jumanji : The Next Level',\n",
    "    'year': 2017,\n",
    "    'genre' :'Adventure',  \n",
    "}\n",
    "\n",
    "movie_2 = {\n",
    "    'title': 'Frozen ll',\n",
    "    'year': 2019,\n",
    "    'genre' :'Family',  \n",
    "}\n",
    "\n",
    "# print\n",
    "print(movie)\n",
    "print(movie_2)\n",
    "print(movie['title'])\n",
    "\n",
    "# update value\n",
    "movie.update({'viewer': 44324578}) #? add new item\n",
    "\n",
    "# change value\n",
    "movie['genre'] = 'Adventure/Comedy'\n",
    "\n",
    "# delete value\n",
    "del movie['year']\n",
    "\n",
    "print(movie)"
   ]
  },
  {
   "cell_type": "markdown",
   "metadata": {},
   "source": [
    "### **`Dictionary Practice - Dictionary Method`**\n",
    "\n",
    "- Method `get()` = digunakan untuk mengakses nilai dari sebuah key tertentu, seperti `print(dict[\"key\"])`\n",
    "- Method `keys()` = digunakan untuk mengakses semua key dari sebuah dictionary, seperti `print(dict.keys())`\n",
    "- Method `values()` = digunakan untuk mengakses semua value dari sebuah dictionary, seperti `print(dict.values())`\n",
    "- Method `update()` = digunakan untuk mengubah nilai dari sebuah key tertentu, seperti `dict.update({\"key\": \"value\"})`\n",
    "- Method `copy()` = digunakan untuk membuat salinan dari sebuah dictionary, seperti `dict.copy()`\n",
    "- Method `pop()` = digunakan untuk menghapus item dalam dictionary berdasarkan key, seperti `dict.pop(\"key\")`\n",
    "- Method `popitem()` = digunakan untuk menghapus item terakhir dalam dictionary, seperti `dict.popitem()`\n",
    "- Method `clear()` = digunakan untuk menghapus semua item dalam dictionary, seperti `dict.clear()`"
   ]
  },
  {
   "cell_type": "code",
   "execution_count": 10,
   "metadata": {},
   "outputs": [
    {
     "name": "stdout",
     "output_type": "stream",
     "text": [
      "{'title': 'Call of Duty', 'genre': 'Action', 'year': 2019, 'platform': 'PC'}\n",
      "Call of Duty\n",
      "dict_keys(['title', 'genre', 'year', 'platform'])\n",
      "dict_values(['Call of Duty', 'Action', 2019, 'PC'])\n",
      "{'title': 'Call of Duty', 'genre': 'Action', 'year': 2019, 'platform': 'PC', 'publisher': 'Activision'}\n",
      "{'title': 'Call of Duty', 'genre': 'Action', 'year': 2019, 'platform': 'PC', 'publisher': 'Activision'}\n",
      "{'title': 'Call of Duty', 'genre': 'Action', 'year': 2019, 'publisher': 'Activision'}\n",
      "{'title': 'Call of Duty', 'genre': 'Action', 'year': 2019}\n",
      "{}\n"
     ]
    }
   ],
   "source": [
    "games = {\n",
    "  'title': 'Call of Duty',\n",
    "  'genre': 'Action',\n",
    "  'year': 2019,\n",
    "  'platform': 'PC',\n",
    "}\n",
    "print(games)\n",
    "\n",
    "# method get()\n",
    "print(games.get('title'))\n",
    "\n",
    "# method keys() & values()\n",
    "print(games.keys())\n",
    "print(games.values())\n",
    "\n",
    "# method update()\n",
    "games.update({'publisher': 'Activision'})\n",
    "print(games)\n",
    "\n",
    "# method copy()\n",
    "games_copy = games.copy()\n",
    "print(games_copy)\n",
    "\n",
    "# method pop()\n",
    "games_copy.pop('platform')\n",
    "print(games_copy)\n",
    "\n",
    "# method popitem()\n",
    "games_copy.popitem()\n",
    "print(games_copy)\n",
    "\n",
    "# method clear()\n",
    "games_copy.clear()\n",
    "print(games_copy)"
   ]
  },
  {
   "cell_type": "markdown",
   "metadata": {},
   "source": [
    "### **`Dictionary Exercise - Problem 1`**"
   ]
  },
  {
   "cell_type": "code",
   "execution_count": 12,
   "metadata": {},
   "outputs": [
    {
     "name": "stdout",
     "output_type": "stream",
     "text": [
      "{'John': '2003-01-01', 'David': '2005-03-02', 'Maria': '2002-05-01', 'Peter': '2001-01-01'}\n",
      "{'John': '2003-01-01', 'David': '2004-03-03', 'Maria': '2002-05-01', 'Peter': '2001-01-01'}\n",
      "dict_keys(['John', 'David', 'Maria', 'Peter'])\n",
      "dict_values(['2003-01-01', '2004-03-03', '2002-05-01', '2001-01-01'])\n",
      "{'John': '2003-01-01', 'David': '2004-03-03', 'Maria': '2002-05-01', 'Peter': '2001-01-01', 'Jessica': '2003-09-14'}\n",
      "{'John': '2003-01-01', 'David': '2004-03-03', 'Peter': '2001-01-01', 'Jessica': '2003-09-14'}\n"
     ]
    }
   ],
   "source": [
    "birth_day = {\n",
    "    \"John\": \"2003-01-01\",\n",
    "    \"David\": \"2005-03-02\",\n",
    "    \"Maria\": \"2002-05-01\",\n",
    "    \"Peter\": \"2001-01-01\",\n",
    "}\n",
    "print(birth_day)\n",
    "\n",
    "# Task 1: change the birth date of David to 2004-03-03\n",
    "birth_day[\"David\"] = \"2004-03-03\"\n",
    "print(birth_day)\n",
    "\n",
    "# Task 2: show all the key(name)  and value(birth date) in the dictionary\n",
    "print(birth_day.keys())\n",
    "print(birth_day.values())\n",
    "\n",
    "# Task 3: add a new key-value pair to the dictionary\n",
    "birth_day[\"Jessica\"] = \"2003-09-14\"\n",
    "print(birth_day)\n",
    "\n",
    "# Task 4: delete Maria from the dictionary\n",
    "del birth_day[\"Maria\"]\n",
    "print(birth_day)"
   ]
  },
  {
   "cell_type": "markdown",
   "metadata": {},
   "source": [
    "### **`Dictionary Exercise - Problem 2`**"
   ]
  },
  {
   "cell_type": "code",
   "execution_count": null,
   "metadata": {},
   "outputs": [
    {
     "name": "stdout",
     "output_type": "stream",
     "text": [
      "{'Banana': 1, 'Grapes': 2, 'Apple': 2.4, 'Milk': 5}\n",
      "9.2\n",
      "{'Banana': 1, 'Grapes': 2, 'Apple': 2.4, 'Milk': 5, 'Chocolate': 7}\n"
     ]
    }
   ],
   "source": [
    "grocery_list = {\n",
    "  \"Banana\": 1,\n",
    "  \"Grapes\": 2,\n",
    "  \"Apple\": 2.4,\n",
    "  \"Milk\": 5\n",
    "}\n",
    "\n",
    "# Task 1: show the list\n",
    "print(grocery_list)\n",
    "\n",
    "# Task 2: how much 2 banana and 3 apple with get method and combine them with operator\n",
    "print(grocery_list.get(\"Banana\") * 2 + grocery_list.get(\"Apple\") * 3)\n",
    "\n",
    "# Task 3: add new data for Chocolate and 7\n",
    "grocery_list[\"Chocolate\"] = 7\n",
    "print(grocery_list)"
   ]
  },
  {
   "cell_type": "markdown",
   "metadata": {},
   "source": [
    "### **`Multiple Data Structure - List Inside of Dictionary`**"
   ]
  },
  {
   "cell_type": "code",
   "execution_count": 21,
   "metadata": {},
   "outputs": [
    {
     "name": "stdout",
     "output_type": "stream",
     "text": [
      "{'rpg': ['The Witcher 3', 'Cyberpunk 2077', 'Dark Souls 3'], 'action': ['Call of Duty', 'Battlefield', 'Counter Strike'], 'adventure': ['Assassin Creed', 'Uncharted', 'The Last of Us']}\n",
      "['The Witcher 3', 'Cyberpunk 2077', 'Dark Souls 3']\n",
      "['Call of Duty', 'Battlefield', 'Counter Strike']\n",
      "['Assassin Creed', 'Uncharted', 'The Last of Us']\n",
      "My favorite RPG game is Dark Souls 3\n",
      "My favorite action game is Battlefield\n",
      "My favorite adventure game is Assassin Creed\n",
      "['Assassin Creed', 'Uncharted', 'The Last of Us', 'God of War', 'Horizon Zero Dawn']\n",
      "['The Witcher 3', 'Cyberpunk 2077', 'Dark Souls 3', 'Skyrim']\n",
      "\n",
      "['The Witcher 3', 'Cyberpunk 2077', 'Dark Souls 3', 'Skyrim']\n",
      "['The Witcher 3', 'Cyberpunk 2077', 'Skyrim']\n",
      "['The Witcher 3', 'Cyberpunk 2077', 'The Elder Scrolls V: Skyrim', 'Skyrim']\n"
     ]
    }
   ],
   "source": [
    "games = {\n",
    "    \"rpg\": [\"The Witcher 3\", \"Cyberpunk 2077\", \"Dark Souls 3\"],\n",
    "    \"action\": [\"Call of Duty\", \"Battlefield\", \"Counter Strike\"],\n",
    "    \"adventure\": [\"Assassin Creed\", \"Uncharted\", \"The Last of Us\"],\n",
    "}\n",
    "# show all games\n",
    "print(games)\n",
    "\n",
    "# show all games in each category\n",
    "print(games[\"rpg\"])\n",
    "print(games[\"action\"])\n",
    "print(games[\"adventure\"])\n",
    "\n",
    "# show specific game\n",
    "print(\"My favorite RPG game is \" + games['rpg'][2])\n",
    "print(\"My favorite action game is \" + games['action'][1])\n",
    "print(\"My favorite adventure game is \" + games['adventure'][0])\n",
    "\n",
    "# add new game\n",
    "games['adventure'].append('God of War')\n",
    "games['adventure'].append('Horizon Zero Dawn')\n",
    "games['rpg'].append('Skyrim')\n",
    "print(games['adventure'])\n",
    "print(games['rpg'])\n",
    "\n",
    "# TODO: Challenge with pop() and insert()\n",
    "print(\"\")\n",
    "print(games['rpg'])\n",
    "# remove one game\n",
    "games['rpg'].pop(2)\n",
    "print(games['rpg'])\n",
    "\n",
    "# add new game\n",
    "games['rpg'].insert(2, 'The Elder Scrolls V: Skyrim')\n",
    "print(games['rpg'])"
   ]
  },
  {
   "cell_type": "markdown",
   "metadata": {},
   "source": [
    "### **`Multiple Data Structure - Dictionary Inside of the List`**"
   ]
  },
  {
   "cell_type": "code",
   "execution_count": null,
   "metadata": {},
   "outputs": [
    {
     "name": "stdout",
     "output_type": "stream",
     "text": [
      "{'title': 'Happy', 'genre': 'Pop', 'year': 2013, 'artist': 'Pharrell Williams', 'songwriter': ['Pharrell Williams', 'Robin Thicke']}\n",
      "{'title': 'Rolling in the Deep', 'genre': 'Pop', 'year': 2010, 'artist': 'Adele', 'songwriter': ['Adele Adkins', 'Paul Epworth']}\n",
      "{'title': 'Blank Space', 'genre': 'Pop', 'year': 2014, 'artist': 'Taylor Swift', 'songwriter': ['Taylor Swift', 'Max Martin']}\n",
      "\n",
      "Happy by Pharrell Williamsis written by Pharrell Williams and Robin Thicke\n",
      "\n",
      "{'title': 'Somebody That I Used to Know', 'genre': 'Pop', 'year': 2011, 'artist': 'Gotye', 'songwriter': ['Gotye', 'Kimbra']}\n",
      "\n",
      "{'title': 'Somebody That I Used to Know', 'genre': 'Pop', 'year': 2011, 'artist': 'Gotye', 'songwriter': ['Gotye', 'Kimbra']}\n"
     ]
    }
   ],
   "source": [
    "songs = [\n",
    "    {\n",
    "        \"title\": \"Happy\",\n",
    "        \"genre\": \"Pop\",\n",
    "        \"year\": 2013,\n",
    "        \"artist\": \"Pharrell Williams\",\n",
    "        \"songwriter\": [\n",
    "            \"Pharrell Williams\",\n",
    "            \"Robin Thicke\",\n",
    "        ],\n",
    "    },\n",
    "    {\n",
    "        \"title\": \"Rolling in the Deep\",\n",
    "        \"genre\": \"Pop\",\n",
    "        \"year\": 2010,\n",
    "        \"artist\": \"Adele\",\n",
    "        \"songwriter\": [\n",
    "            \"Adele Adkins\",\n",
    "            \"Paul Epworth\",\n",
    "        ],\n",
    "    },\n",
    "    {\n",
    "        \"title\": \"Blank Space\",\n",
    "        \"genre\": \"Pop\",\n",
    "        \"year\": 2014,\n",
    "        \"artist\": \"Taylor Swift\",\n",
    "        \"songwriter\": [\n",
    "            \"Taylor Swift\",\n",
    "            \"Max Martin\",\n",
    "        ],\n",
    "    },\n",
    "]\n",
    "\n",
    "\n",
    "# show all songs\n",
    "def show_all_songs():\n",
    "    for song in songs:\n",
    "        print(song)\n",
    "\n",
    "\n",
    "show_all_songs()\n",
    "\n",
    "# print specific song\n",
    "print(\"\")\n",
    "print(\n",
    "    songs[0][\"title\"]\n",
    "    + \" by \"\n",
    "    + songs[0][\"artist\"]\n",
    "    + \"is written by \"\n",
    "    + songs[0][\"songwriter\"][0]\n",
    "    + \" and \"\n",
    "    + songs[0][\"songwriter\"][1]\n",
    ")\n",
    "\n",
    "# add new song\n",
    "songs.append(\n",
    "  {\n",
    "        \"title\": \"Somebody That I Used to Know\",\n",
    "        \"genre\": \"Pop\",\n",
    "        \"year\": 2011,\n",
    "        \"artist\": \"Gotye\",\n",
    "        \"songwriter\": [\n",
    "            \"Gotye\",\n",
    "            \"Kimbra\",\n",
    "        ],\n",
    "    },\n",
    ")\n",
    "\n",
    "# print\n",
    "print(\"\")\n",
    "print(songs[3])\n",
    "\n",
    "\n",
    "# TODO: Challenge = change list to tuple\n",
    "songs = tuple(songs)\n",
    "\n",
    "# print\n",
    "print(\"\")\n",
    "print(songs[3])\n",
    "\n",
    "\n"
   ]
  },
  {
   "cell_type": "markdown",
   "metadata": {},
   "source": [
    "### **`Movie Dictionary with Random Module`**"
   ]
  },
  {
   "cell_type": "code",
   "execution_count": 32,
   "metadata": {},
   "outputs": [
    {
     "name": "stdout",
     "output_type": "stream",
     "text": [
      "Title: The Shawshank Redemption\n",
      "Genre: Drama\n",
      "Year: 1994\n",
      "Director: Frank Darabont\n",
      "Rating: 9.3\n",
      "\n",
      "Recommended movie:\n",
      "Title: Pulp Fiction\n",
      "Genre: Crime\n",
      "Year: 1994\n",
      "Director: Quentin Tarantino\n",
      "Rating: 8.9\n",
      "\n"
     ]
    }
   ],
   "source": [
    "import random\n",
    "\n",
    "\n",
    "# List of dictionaries representing movies\n",
    "movies = [\n",
    "    {\n",
    "        \"title\": \"The Shawshank Redemption\",\n",
    "        \"genre\": \"Drama\",\n",
    "        \"year\": 1994,\n",
    "        \"director\": \"Frank Darabont\",\n",
    "        \"rating\": 9.3,\n",
    "    },\n",
    "    {\n",
    "        \"title\": \"The Godfather\",\n",
    "        \"genre\": \"Crime\",\n",
    "        \"year\": 1972,\n",
    "        \"director\": \"Francis Ford Coppola\",\n",
    "        \"rating\": 9.2,\n",
    "    },\n",
    "    {\n",
    "        \"title\": \"The Dark Knight\",\n",
    "        \"genre\": \"Action\",\n",
    "        \"year\": 2008,\n",
    "        \"director\": \"Christopher Nolan\",\n",
    "        \"rating\": 9.0,\n",
    "    },\n",
    "    {\n",
    "        \"title\": \"Pulp Fiction\",\n",
    "        \"genre\": \"Crime\",\n",
    "        \"year\": 1994,\n",
    "        \"director\": \"Quentin Tarantino\",\n",
    "        \"rating\": 8.9,\n",
    "    },\n",
    "    {\n",
    "        \"title\": \"Forrest Gump\",\n",
    "        \"genre\": \"Drama\",\n",
    "        \"year\": 1994,\n",
    "        \"director\": \"Robert Zemeckis\",\n",
    "        \"rating\": 8.8,\n",
    "    },\n",
    "]\n",
    "\n",
    "\n",
    "# TODO: Function to display movie information\n",
    "def display_movie_info(movie):\n",
    "    print(f\"Title: {movie['title']}\")\n",
    "    print(f\"Genre: {movie['genre']}\")\n",
    "    print(f\"Year: {movie['year']}\")\n",
    "    print(f\"Director: {movie['director']}\")\n",
    "    print(f\"Rating: {movie['rating']}\")\n",
    "    print()\n",
    "\n",
    "\n",
    "display_movie_info(movies[0])\n",
    "\n",
    "# TODO: Add new movie with input user\n",
    "# new_movie = {\n",
    "#     \"title\": input(\"Enter the title of the movie: \"),\n",
    "#     \"genre\": input(\"Enter the genre of the movie: \"),\n",
    "#     \"year\": int(input(\"Enter the year of the movie: \")),\n",
    "#     \"director\": input(\"Enter the director of the movie: \"),\n",
    "#     \"rating\": float(input(\"Enter the rating of the movie: \")),\n",
    "# }\n",
    "# movies.append(new_movie)\n",
    "\n",
    "# TODO: Recommend a random movie\n",
    "random_movie = random.choice(movies)\n",
    "print(\"Recommended movie:\")\n",
    "display_movie_info(random_movie)"
   ]
  }
 ],
 "metadata": {
  "kernelspec": {
   "display_name": "Python 3",
   "language": "python",
   "name": "python3"
  },
  "language_info": {
   "codemirror_mode": {
    "name": "ipython",
    "version": 3
   },
   "file_extension": ".py",
   "mimetype": "text/x-python",
   "name": "python",
   "nbconvert_exporter": "python",
   "pygments_lexer": "ipython3",
   "version": "3.12.6"
  }
 },
 "nbformat": 4,
 "nbformat_minor": 2
}
