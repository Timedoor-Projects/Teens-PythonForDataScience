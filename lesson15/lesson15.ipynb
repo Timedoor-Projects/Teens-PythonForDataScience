{
 "cells": [
  {
   "cell_type": "markdown",
   "id": "7958381e",
   "metadata": {},
   "source": [
    "### **`Python Libraries and Numpy`**"
   ]
  },
  {
   "cell_type": "code",
   "execution_count": 1,
   "id": "b5ffbc5e",
   "metadata": {},
   "outputs": [
    {
     "name": "stdout",
     "output_type": "stream",
     "text": [
      "[ 6 14 24 36 50]\n"
     ]
    }
   ],
   "source": [
    "import numpy as np\n",
    "\n",
    "a = np.array([1,2,3,4,5])\n",
    "b = np.array([6,7,8,9,10])\n",
    "\n",
    "print(a*b)"
   ]
  }
 ],
 "metadata": {
  "kernelspec": {
   "display_name": "Python 3",
   "language": "python",
   "name": "python3"
  },
  "language_info": {
   "codemirror_mode": {
    "name": "ipython",
    "version": 3
   },
   "file_extension": ".py",
   "mimetype": "text/x-python",
   "name": "python",
   "nbconvert_exporter": "python",
   "pygments_lexer": "ipython3",
   "version": "3.13.7"
  }
 },
 "nbformat": 4,
 "nbformat_minor": 5
}
