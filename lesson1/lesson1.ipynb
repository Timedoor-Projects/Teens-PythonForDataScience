{
 "cells": [
  {
   "cell_type": "markdown",
   "metadata": {},
   "source": [
    "## Introduction to AI and Python\n",
    "\n",
    "### **`Artificial Intelligence (AI)`**\n",
    "- **`Artificial Intelligence (AI)`** = pengembangan komputer di mana suatu pekerjaan yang seharusnya memerlukan kecerdasan manusia diubah menjadi kecerdasan komputer.\n",
    "- Contoh Aplikasi berbasis AI:\n",
    "  - [Quick, Draw! By Google](https://quickdraw.withgoogle.com/)\n",
    "  - [Tic Tac Toe](https://www.google.com/fbx?fbx=tic_tac_toe)\n",
    "- Apa yang perlu dipersiapkan untuk menjadi **AI developer**:\n",
    "  - **`Kemampuan coding`**\n",
    "    - AI biasanya dikembangkan dengan bahasa Python, R dan Java\n",
    "  - **`Analisa Data dan Matematika`**\n",
    "    - Analisa data dengan metode yang tepat akan memperoleh hasil yang baik.\n",
    "- **Mengapa Python?**\n",
    "  - Mudah dipelajari untuk Beginner\n",
    "  - Memiliki banyak library pendukung pembuatan AI\n",
    "  - Komunitas yang besar\n",
    "- [Instllasi Python](https://docs.google.com/document/d/1LeikWMzr4wI__ZkLW8IhyZ6f7aSvd0xWfPn-Cc8He7o/edit?usp=sharing)"
   ]
  },
  {
   "cell_type": "code",
   "execution_count": 1,
   "metadata": {},
   "outputs": [
    {
     "name": "stdout",
     "output_type": "stream",
     "text": [
      "Hello world\n",
      " A Hello world! program is generally a computer program that outputs or displays the message Hello World \n"
     ]
    }
   ],
   "source": [
    "# print \n",
    "print(\"Hello world\")\n",
    "\n",
    "# print dengan menampilkan paragraf\n",
    "print(\"\"\" A Hello world! program is generally a computer program that outputs or displays the message Hello World \"\"\")"
   ]
  },
  {
   "cell_type": "markdown",
   "metadata": {},
   "source": [
    "### **`Comment in Python`**\n",
    "- **`Comment`** = baris program yang diabaikan atau tidak akan dijalankan.\n",
    "  - Comment bagus digunakan sebagai catatan dari program yang kita tulis agar mudah dipahami."
   ]
  },
  {
   "cell_type": "code",
   "execution_count": 2,
   "metadata": {},
   "outputs": [
    {
     "data": {
      "text/plain": [
       "'\\nthis is multiline comment\\n'"
      ]
     },
     "execution_count": 2,
     "metadata": {},
     "output_type": "execute_result"
    }
   ],
   "source": [
    "#this is comment\n",
    "\"\"\"\n",
    "this is multiline comment\n",
    "\"\"\""
   ]
  },
  {
   "cell_type": "markdown",
   "metadata": {},
   "source": [
    "### **`Variable, Data Type & Operator`**\n",
    "- **`Variable`** = tempat atau wadah yang memiliki nama untuk menampung nilai data dan nilainya bisa berubah-ubah.\n",
    "- **`Data Type:`**\n",
    "  - **String (Str atau Text)** = menyimpan nilai yang menggunakan kombinasi karakter misalnya huruf, angka dan simbol.\n",
    "  - **Integer (Int)** = menyimpan semua angka, misalnya 1,20,300\n",
    "  - **Float (Decimal atau Real)** = menyimpan desimal, misalnya 1.5\n",
    "  - **Boolean** = menyimpan nilai pilihan true/false atau ya/tidak\n",
    "- **`Python Variable Names:`**\n",
    "  - Nama variable hanya bisa memuat huruf (a-z), angka (0-9) dan underscore (_)\n",
    "  - Nama variable tidak boleh dimulai dengan angka\n",
    "  - Nama variable case sensitive (Y dan y itu berbeda arti)\n",
    "- **`Operator:`** = simbol-simbol yang digunakan untuk melakukan operasi terhadap nilai dari variable.\n",
    "  - **`Arithmatic Operator:`**\n",
    "    - Pertambahan (+)\n",
    "    - Pengurangan (-)\n",
    "    - Perkalian (*)\n",
    "    - Pembagian (/)\n",
    "    - Pangkat/Exponensial (**)\n",
    "    - Modulus (%)\n",
    "    - Pembulatan/Floor Division (//)\n",
    "  - **`Logical Operators:`**\n",
    "    - and\n",
    "    - or\n",
    "    - not\n",
    "  - **`Comparison Operators:`**\n",
    "    - ==\n",
    "    - !=\n",
    "    - '>\n",
    "    - <\n",
    "    - '>=\n",
    "    - <=\n",
    "    - in\n",
    "    - not in\n",
    "    - is\n",
    "    - is not"
   ]
  },
  {
   "cell_type": "code",
   "execution_count": 4,
   "metadata": {},
   "outputs": [
    {
     "name": "stdout",
     "output_type": "stream",
     "text": [
      "The Matrix\n",
      "The Movie is The Matrix\n"
     ]
    }
   ],
   "source": [
    "movie_title = \"The Matrix\"\n",
    "release_year = 1994\n",
    "rating = 8.2\n",
    "is_general_audience = True\n",
    "print(movie_title)\n",
    "\n",
    "print(\"The Movie is \" + movie_title)"
   ]
  },
  {
   "cell_type": "code",
   "execution_count": 5,
   "metadata": {},
   "outputs": [
    {
     "name": "stdout",
     "output_type": "stream",
     "text": [
      "150\n",
      "Total payment : 150\n",
      "Total payment after discount : 900\n"
     ]
    }
   ],
   "source": [
    "top_up_amount = 50\n",
    "count = 3\n",
    "discount = 2\n",
    "\n",
    "# todo: get total payment\n",
    "total_payment = top_up_amount * count\n",
    "print(total_payment)\n",
    "\n",
    "# todo: total payment with discount\n",
    "total_discount = discount * 3\n",
    "payment_after_discount = total_payment * total_discount\n",
    "\n",
    "print(\"Total payment : \" + str(total_payment))\n",
    "print(\"Total payment after discount : \" + str(payment_after_discount))"
   ]
  },
  {
   "cell_type": "markdown",
   "metadata": {},
   "source": [
    "### **`Input`**\n",
    "\n",
    "- **`Input`** = sebuah data, informasi atau nilai apapun yang dikirimkan oleh user kepada komputer.\n"
   ]
  },
  {
   "cell_type": "code",
   "execution_count": 7,
   "metadata": {},
   "outputs": [
    {
     "data": {
      "text/plain": [
       "'Fuzi'"
      ]
     },
     "execution_count": 7,
     "metadata": {},
     "output_type": "execute_result"
    }
   ],
   "source": [
    "input(\"What is your name? \")"
   ]
  },
  {
   "cell_type": "code",
   "execution_count": 9,
   "metadata": {},
   "outputs": [
    {
     "name": "stdout",
     "output_type": "stream",
     "text": [
      "Burger Pricelist : \n",
      "  1. Beef Burger $15 \n",
      "  2. Cheese Burger $20 \n",
      "  3. Kids Burger $9   \n",
      "You need to pay $6\n"
     ]
    }
   ],
   "source": [
    "print(\"\"\"Burger Pricelist : \n",
    "  1. Beef Burger $15 \n",
    "  2. Cheese Burger $20 \n",
    "  3. Kids Burger $9   \"\"\")\n",
    "\n",
    "menu_price = input(\"Menu price : \") #? harga menu nilainya berdasarkan input\n",
    "amount = input(\"Amount : \")\n",
    "\n",
    "bill= int(menu_price)* int(amount) #? Dari string diubah menjadi interger\n",
    "print(\"You need to pay $\" +str(bill))"
   ]
  },
  {
   "cell_type": "code",
   "execution_count": 11,
   "metadata": {},
   "outputs": [
    {
     "name": "stdout",
     "output_type": "stream",
     "text": [
      "\n",
      "Your information:\n",
      "Budi Doremi-10B\n"
     ]
    }
   ],
   "source": [
    "\n",
    "# TODO: Challenge - Program untuk input data siswa\n",
    "\n",
    "#?  Meminta input dari pengguna\n",
    "first_name = input(\"Your first name: \")\n",
    "last_name = input(\"Your last name: \")\n",
    "class_code = input(\"Your class code: \")\n",
    "\n",
    "#? Menampilkan hasil\n",
    "print(\"\\nYour information:\")\n",
    "print(f\"{first_name} {last_name}-{class_code}\")\n"
   ]
  }
 ],
 "metadata": {
  "kernelspec": {
   "display_name": "Python 3",
   "language": "python",
   "name": "python3"
  },
  "language_info": {
   "codemirror_mode": {
    "name": "ipython",
    "version": 3
   },
   "file_extension": ".py",
   "mimetype": "text/x-python",
   "name": "python",
   "nbconvert_exporter": "python",
   "pygments_lexer": "ipython3",
   "version": "3.12.6"
  }
 },
 "nbformat": 4,
 "nbformat_minor": 2
}
