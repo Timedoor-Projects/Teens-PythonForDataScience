{
 "cells": [
  {
   "cell_type": "markdown",
   "metadata": {},
   "source": [
    "## **Lesson 2 - Python Data Structure**\n",
    "\n",
    "- **`Struktur Data`** = cara mengatur data sehingga bisa diatur agar lebih efisien. \n",
    "- Yang akan dipelajari:\n",
    "  - List\n",
    "  - Tuple\n",
    "  - Dictionary\n",
    "\n",
    "### **`List - List Concept`**\n",
    "\n",
    "- **`List`** = adalah tempat untuk menampung banyak item secara berurutan.\n",
    "- **`Index`** = nomor yang merepresentasikan urutan posisi elemen pada sebuah list.\n",
    "  - Index dimulai dari 0.\n",
    "\n",
    "  | Index 0 | Index 1 | Index 2 |\n",
    "  |:--:|:--:|:-:| \n",
    "  | Books | Gamepad | Shoes |"
   ]
  },
  {
   "cell_type": "code",
   "execution_count": 3,
   "metadata": {},
   "outputs": [
    {
     "name": "stdout",
     "output_type": "stream",
     "text": [
      "['Bread', 'Cereal', 'Peanut Butter']\n",
      "Bread\n",
      "Cereal\n",
      "Peanut Butter\n",
      "['Bread', 'Cereal']\n",
      "['Cereal', 'Peanut Butter', 'Sausage', 'Croissant']\n",
      "['Cereal', 'Strawberry Jam', 'Sausage', 'Croissant']\n",
      "4\n"
     ]
    }
   ],
   "source": [
    "\n",
    "### TODO: Practice 1\n",
    "grocery_list = [\"Bread\", \"Cereal\", \"Peanut Butter\"]\n",
    "\n",
    "#? show all data in list\n",
    "print(grocery_list)\n",
    "\n",
    "#? show data by index\n",
    "#* show first data\n",
    "print(grocery_list[0]) \n",
    "#* show second data\n",
    "print(grocery_list[1]) \n",
    "#* show last data\n",
    "print(grocery_list[-1]) \n",
    "\n",
    "#? show data by range\n",
    "print(grocery_list[0:2]) #* show data from index 0 - 1\n",
    "\n",
    "#? add data & remove data\n",
    "grocery_list.append(\"Sausage\")\n",
    "grocery_list.append(\"Croissant\")\n",
    "grocery_list.remove(\"Bread\")\n",
    "print(grocery_list)\n",
    "\n",
    "#? update data\n",
    "grocery_list[1] = \"Strawberry Jam\"\n",
    "print(grocery_list)\n",
    "print(len(grocery_list))"
   ]
  },
  {
   "cell_type": "code",
   "execution_count": 1,
   "metadata": {},
   "outputs": [
    {
     "name": "stdout",
     "output_type": "stream",
     "text": [
      "[130, 100, 140, 150, 190, 200, 250, 200, 230, 250]\n",
      "[100, 130, 140, 150, 190, 200, 200, 230, 250, 250]\n",
      "[100, 130, 140, 150]\n",
      "[190, 200, 200]\n",
      "[230, 250, 250]\n"
     ]
    }
   ],
   "source": [
    "\n",
    "### TODO: Practice 2\n",
    "\n",
    "numbers = [130,100,140,150, 190, 200, 250,200,230,250]\n",
    "print(numbers)\n",
    "\n",
    "#? sort the list\n",
    "numbers.sort()\n",
    "print(numbers)\n",
    "\n",
    "#? create & show grocery list\n",
    "grade_3 = numbers[:4]\n",
    "print(grade_3)\n",
    "grade_2 = numbers[4:7]\n",
    "print(grade_2)\n",
    "grade_1 = numbers[7:]\n",
    "print(grade_1)\n"
   ]
  },
  {
   "cell_type": "markdown",
   "metadata": {},
   "source": [
    "### **`List - Method insert, pop, count`**\n",
    "\n",
    "- **`pop`** = adalah method yang digunakan untuk menghapus item dari list pada index tertentu. \n",
    "- **`insert`** = adalah method yang digunakan untuk menambahkan item ke dalam list pada index tertentu. \n",
    "- **`count`** = adalah method yang digunakan untuk menghitung jumlah kemunculan suatu item dalam list. \n",
    "\n",
    "**`Notes`**:\n",
    "- **`pop`** = jika method **`pop`** tidak diberi argumen, maka item terakhir dari list akan dihapus.\n"
   ]
  },
  {
   "cell_type": "code",
   "execution_count": 8,
   "metadata": {},
   "outputs": [
    {
     "name": "stdout",
     "output_type": "stream",
     "text": [
      "['Laptop', 'Mouse', 'Keyboard', 'Monitor', 'Mouse', 'Printer']\n",
      "Remove product:  Keyboard\n",
      "List after removal: ['Laptop', 'Mouse', 'Monitor', 'Mouse', 'Printer']\n",
      "\n",
      "List after adding 'Tablet': ['Laptop', 'Mouse', 'Tablet', 'Monitor', 'Mouse', 'Printer']\n",
      "List after adding 'Scanner': ['Laptop', 'Mouse', 'Tablet', 'Monitor', 'Mouse', 'Scanner', 'Printer']\n",
      "\n",
      "Number of 'Mouse': 2\n"
     ]
    }
   ],
   "source": [
    "products = ['Laptop', 'Mouse', 'Keyboard', 'Monitor', 'Mouse', 'Printer']\n",
    "print(products)\n",
    "\n",
    "# pop()\n",
    "remove_product = products.pop(2)\n",
    "print(\"Remove product: \", remove_product)\n",
    "print(f\"List after removal: {products}\")\n",
    "\n",
    "# insert()\n",
    "print(\"\");\n",
    "products.insert(2, 'Tablet')\n",
    "print(f\"List after adding 'Tablet': {products}\")\n",
    "products.insert(5, 'Scanner')\n",
    "print(f\"List after adding 'Scanner': {products}\")\n",
    "\n",
    "# count()\n",
    "print(\"\");\n",
    "mouse_count = products.count('Mouse')\n",
    "print(f\"Number of 'Mouse': {mouse_count}\")"
   ]
  },
  {
   "cell_type": "markdown",
   "metadata": {},
   "source": [
    "### **`List - 2D List`**\n"
   ]
  },
  {
   "cell_type": "code",
   "execution_count": 10,
   "metadata": {},
   "outputs": [
    {
     "name": "stdout",
     "output_type": "stream",
     "text": [
      "[[25, 27, 28, 27], [23, 24, 26, 26], [24, 24, 27, 27], [22, 24, 25, 24]]\n",
      "[25, 27, 28, 27]\n",
      "25\n",
      "[[25, 27, 28, 27], [23, 24, 26, 26], [24, 24, 27, 27], [22, 24, 25, 24], [23, 24, 24, 26]]\n",
      "5\n",
      "4\n"
     ]
    }
   ],
   "source": [
    "temperature = [  # List terluar\n",
    "    [25, 27, 28, 27],  # di dalamnya ada list lainnya.\n",
    "    [23, 24, 26, 26],\n",
    "    [24, 24, 27, 27],\n",
    "    [22, 24, 25, 24],\n",
    "]\n",
    "\n",
    "print(temperature)\n",
    "print(temperature[0])\n",
    "print(temperature[0][0])\n",
    "\n",
    "# append\n",
    "temperature.append([23,24,24,26])\n",
    "print(temperature)\n",
    "\n",
    "# length\n",
    "print(len(temperature))\n",
    "print(len(temperature[0]))\n"
   ]
  },
  {
   "cell_type": "markdown",
   "metadata": {},
   "source": [
    "### **`List Exercise - Problem 1`**\n",
    "\n",
    "Buatlah sebuah list menggunakan Python bernama cart yang menampung beberapa item seperti “apple”, “banana”, “milk”, “bread” ! \n",
    "\n",
    "1. Akses elemen pada index ke-2 dan ke-3 ! \n",
    "2. Ubah belanjaan pada index ke-1 Menjadi “Orange” ! \n",
    "3. Lalu print() isi list cart tersebut ! "
   ]
  },
  {
   "cell_type": "code",
   "execution_count": 12,
   "metadata": {},
   "outputs": [
    {
     "name": "stdout",
     "output_type": "stream",
     "text": [
      "['apple', 'banana', 'milk', 'bread']\n",
      "milk\n",
      "bread\n",
      "['apple', 'orange', 'milk', 'bread']\n"
     ]
    }
   ],
   "source": [
    "cart = [\"apple\", \"banana\", \"milk\", \"bread\"]\n",
    "print(cart)\n",
    "\n",
    "# task 1\n",
    "print(cart[2])\n",
    "print(cart[3])\n",
    "\n",
    "# task 2\n",
    "cart[1] = \"orange\"\n",
    "\n",
    "# task 3\n",
    "print(cart)"
   ]
  },
  {
   "cell_type": "markdown",
   "metadata": {},
   "source": [
    "### **`List Exercise - Problem 2`**"
   ]
  },
  {
   "cell_type": "code",
   "execution_count": 15,
   "metadata": {},
   "outputs": [
    {
     "name": "stdout",
     "output_type": "stream",
     "text": [
      "List score from class A: [90, 88, 70, 98, 82, 90]\n",
      "Task 1: Adding new score with 85 after 70: [90, 88, 70, 85, 98, 82, 90]\n",
      "Task 2: Count score 90 in class A: 2\n",
      "Task 3: Remove 82 from class A with pop(): [90, 88, 70, 85, 98, 90]\n"
     ]
    }
   ],
   "source": [
    "# List score from class A\n",
    "score_A = [90, 88, 70, 98, 82, 90]\n",
    "print(\"List score from class A:\", score_A)\n",
    "\n",
    "# Task 1: Adding new score with 85 after 70\n",
    "score_A.insert(3, 85)\n",
    "print(\"Task 1: Adding new score with 85 after 70:\", score_A)\n",
    "\n",
    "# Task 2: Count score 90 in class A\n",
    "count_90 = score_A.count(90)\n",
    "print(\"Task 2: Count score 90 in class A:\", count_90)\n",
    "\n",
    "# Task 3: Remove 82 from class A with pop()\n",
    "score_A.pop(5)\n",
    "print(\"Task 3: Remove 82 from class A with pop():\", score_A)"
   ]
  },
  {
   "cell_type": "markdown",
   "metadata": {},
   "source": [
    "### **`List Exercise - Problem 3`**\n",
    "Buatkan list 2D seperti di atas, untuk menyimpan nama - usia - hobi. Kemudian, ubah isi datanya menjadi : \n",
    "\n",
    "1. Ubah hobi Shabrina menjadi  “Writing”\n",
    "2. Tambahkan data baru dengan detail : Samuel - 19 - Singing\n",
    "3. Tampilkan detail data Joe, sehingga akan menampilkan output “Hello my name is Joe, i’m 16 years old, i love Football”"
   ]
  },
  {
   "cell_type": "code",
   "execution_count": null,
   "metadata": {},
   "outputs": [
    {
     "name": "stdout",
     "output_type": "stream",
     "text": [
      "[['Mark', 12, 'Reading'], ['Joe', 16, 'Football'], ['Shabrina', 15, 'Cooking'], ['Aaron', 19, 'Coding']]\n",
      "[['Mark', 12, 'Reading'], ['Joe', 16, 'Football'], ['Shabrina', 15, 'Writing'], ['Aaron', 19, 'Coding']]\n",
      "[['Mark', 12, 'Reading'], ['Joe', 16, 'Football'], ['Shabrina', 15, 'Writing'], ['Aaron', 19, 'Coding'], ['Samuel', 19, 'Singing']]\n",
      "Hello my name is Joe, i'm 16 years old, i love Football\n"
     ]
    }
   ],
   "source": [
    "dataset = [\n",
    "    [\"Mark\", 12, \"Reading\"],\n",
    "    [\"Joe\", 16, \"Football\"],\n",
    "    [\"Sabrina\", 15, \"Cooking\"],\n",
    "    [\"Aaron\", 19, \"Coding\"],\n",
    "]\n",
    "\n",
    "print(dataset)\n",
    "\n",
    "# Task 1: Ubah hobi Sabrina menjadi  “Writing”\n",
    "dataset[2][2] = \"Writing\"\n",
    "print(dataset)\n",
    "\n",
    "# Task 2: Tambahkan data baru dengan detail : Samuel - 19 - Singing\n",
    "dataset.append([\"Samuel\", 19, \"Singing\"])\n",
    "print(dataset)\n",
    "\n",
    "# Task 3: Tampilkan detail data Joe, sehingga akan menampilkan output “Hello my name is Joe, i’m 16 years old, i love Football”\n",
    "for data in dataset:\n",
    "    if data[0] == \"Joe\":\n",
    "        print(f\"Hello my name is {data[0]}, i'm {data[1]} years old, i love {data[2]}\")"
   ]
  },
  {
   "cell_type": "markdown",
   "metadata": {},
   "source": [
    "### **`Tuples`**\n",
    "\n",
    "- **`Tuples`** = adalah tempat untuk menampung banyak item secara berurutan yang itemnya tidak dapat diubah.\n",
    "\n",
    "### **`Tuples Practice`**\n"
   ]
  },
  {
   "cell_type": "code",
   "execution_count": null,
   "metadata": {},
   "outputs": [
    {
     "name": "stdout",
     "output_type": "stream",
     "text": [
      "('Python', 'C++', 'Java Script')\n",
      "3\n",
      "C++\n",
      "True\n",
      "False\n"
     ]
    }
   ],
   "source": [
    "subjects = (\"Python\", \"C++\", \"Java Script\")\n",
    "print(subjects)\n",
    "print(len(subjects))\n",
    "\n",
    "# prints(subjects[-1]) #! error\n",
    "print(subjects[1])\n",
    "# print(subject[0:2]) #! error\n",
    "print(\"Python\" in subjects)\n",
    "print(\"Java\" in subjects)"
   ]
  },
  {
   "cell_type": "markdown",
   "metadata": {},
   "source": [
    "### **`Tuples Practice - Tuples Exercise`**"
   ]
  },
  {
   "cell_type": "code",
   "execution_count": 23,
   "metadata": {},
   "outputs": [
    {
     "name": "stdout",
     "output_type": "stream",
     "text": [
      "('Math', 'Science', 'English', 'History', 'Art')\n",
      "5\n",
      "I love learning English and History\n",
      "('Math', 'Science', 'English', 'History', 'Art')\n"
     ]
    }
   ],
   "source": [
    "subjects = (\"Math\", \"Science\", \"English\", \"History\", \"Art\")\n",
    "print(subjects)\n",
    "\n",
    "# Task 1: count the number of subjects\n",
    "print(len(subjects))\n",
    "\n",
    "# Task 2: Showing \"I love learning English and History\"\n",
    "print(\"I love learning \" + subjects[2] + \" and \" + subjects[3])\n",
    "\n",
    "# Task 3: Try to change the value of \"Science\" to \"Biology\"\n",
    "# subjects[1] = \"Biology\" #! TypeError: 'tuple' object does not support item assignment\n",
    "print(subjects)"
   ]
  },
  {
   "cell_type": "markdown",
   "metadata": {},
   "source": [
    "### **`Random Module - Concept`**\n",
    "\n",
    "- **`Random`** = module python yang dapat menampilkan angka random atau indeks random dari list/string.\n",
    "- 2 jenis random dalam Python:\n",
    "  - `random.choice(list_name)` = memilih random dari list/string\n",
    "  - `random.randint([start], [end])` = memilih random dari range start sampai end"
   ]
  },
  {
   "cell_type": "code",
   "execution_count": 26,
   "metadata": {},
   "outputs": [
    {
     "name": "stdout",
     "output_type": "stream",
     "text": [
      "Petter\n"
     ]
    }
   ],
   "source": [
    "import random\n",
    "friend_list = ['Brian','Cia','Petter','Drake']\n",
    "random_name = random.choice(friend_list)\n",
    "print(random_name)"
   ]
  },
  {
   "cell_type": "markdown",
   "metadata": {},
   "source": [
    "### **`Password Maker Project - using Random Module`**\n",
    "\n",
    "- Password yang aman:\n",
    "  - mulai dari gabungan kata yang kamu ingat tanpa spasi\n",
    "  - pakai minimal 8 karakter\n",
    "  - gunakan huruf, angka dan simbol\n",
    "  - pakai huruf kapital di salah satu huruf"
   ]
  },
  {
   "cell_type": "code",
   "execution_count": 29,
   "metadata": {},
   "outputs": [
    {
     "name": "stdout",
     "output_type": "stream",
     "text": [
      "Welcome to Password Maker!\n",
      "Recommended password: sleepyHammer69>\n"
     ]
    }
   ],
   "source": [
    "import random\n",
    "import string\n",
    "print(\"Welcome to Password Maker!\")\n",
    "\n",
    "#? import String : mengakses modul string yang menyediakan karakter simbol (punctuation)\n",
    "\n",
    "adjectives_list = [\"sleepy\", \"slow\", \"fluffy\", \"red\", \"yellow\", \"green\", \"blue\"]\n",
    "nouns_list = [\"Dinosaur\", \"Ball\", \"Dragon\",\"Hammer\", \"Apple\", \"Duck\", \"Panda\"]\n",
    "\n",
    "                        #1\n",
    "#---------------------------------------------------   \n",
    "adjective = random.choice(adjectives_list)\n",
    "noun = random.choice(nouns_list)    \n",
    "number = random.randrange(0, 100)    \n",
    "char = random.choice(string.punctuation)\n",
    "#---------------------------------------------------\n",
    "                        #2\n",
    "#---------------------------------------------------\n",
    "password = adjective + noun + str(number) + char\n",
    "print(\"Recommended password: \" + password) \n",
    "#---------------------------------------------------"
   ]
  },
  {
   "cell_type": "markdown",
   "metadata": {},
   "source": [
    "### **`Password Maker Project - Challenge Email`**\n"
   ]
  },
  {
   "cell_type": "code",
   "execution_count": 32,
   "metadata": {},
   "outputs": [
    {
     "name": "stdout",
     "output_type": "stream",
     "text": [
      "budislow16@mail.com\n"
     ]
    }
   ],
   "source": [
    "import random\n",
    "\n",
    "name = input(\"Masukkan nama: \")\n",
    "characteristic = input(\"Masukkan sifat: \")\n",
    "number = random.randint(1,100)\n",
    "email = name + characteristic + str(number) + \"@mail.com\"\n",
    "print(email)"
   ]
  }
 ],
 "metadata": {
  "kernelspec": {
   "display_name": "Python 3",
   "language": "python",
   "name": "python3"
  },
  "language_info": {
   "codemirror_mode": {
    "name": "ipython",
    "version": 3
   },
   "file_extension": ".py",
   "mimetype": "text/x-python",
   "name": "python",
   "nbconvert_exporter": "python",
   "pygments_lexer": "ipython3",
   "version": "3.12.6"
  }
 },
 "nbformat": 4,
 "nbformat_minor": 2
}
