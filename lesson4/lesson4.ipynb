{
 "cells": [
  {
   "cell_type": "markdown",
   "metadata": {},
   "source": [
    "## **Lesson 4 - Looping in Python**\n",
    "\n",
    "### **`Loop - What is Loop?`**\n",
    "\n",
    "- **`Loops`** = adalah metode untuk menjalankan code berulang kali.\n",
    "- 2 jenis loops:\n",
    "  - **`For Loop`** = digunakan ketika kamu tahu berapa kali jumlah perulangan\n",
    "  - **`While Loop`** = digunakan ketika jumlah perulangan tidak diketahui atau ditentukan oleh sebuah kondisi.\n",
    "\n",
    "### **`For Loop Practice`**\n",
    "\n",
    "- **`Indentasi`** = adalah penulisan kode yang agak **menjorok ke dalam**. \n",
    "  - Hal ini untuk memberitahukan kode yang termasuk di dalam code lain.\n",
    "  - Indentasi biasanya menggunakan spasi atau tab."
   ]
  },
  {
   "cell_type": "code",
   "execution_count": 7,
   "metadata": {},
   "outputs": [
    {
     "name": "stdout",
     "output_type": "stream",
     "text": [
      "All friends:\n",
      "Amanda\n",
      "Bruno\n",
      "Camila\n",
      "Drake\n",
      "Elvis\n",
      "Freddie\n",
      "George\n",
      "Harry\n",
      "Iggy\n",
      "Joji\n",
      "\n",
      "3 friends:\n",
      "Amanda\n",
      "Bruno\n",
      "Camila\n",
      "\n",
      "Even friends:\n",
      "Bruno\n",
      "Drake\n",
      "Freddie\n",
      "Harry\n",
      "Joji\n"
     ]
    }
   ],
   "source": [
    "friends_list = ['Amanda', 'Bruno', 'Camila', 'Drake', 'Elvis', 'Freddie','George','Harry','Iggy','Joji']\n",
    "\n",
    "# show all friends\n",
    "print('All friends:')\n",
    "for i in friends_list: #nama list\n",
    "    print(i) #Kode yang ingin diulang harus menjorok\n",
    "\n",
    "# show 3 names\n",
    "print('')\n",
    "print('3 friends:')\n",
    "for i in range(3): \n",
    "    print(friends_list[i])\n",
    "\n",
    "# show even names\n",
    "print('')\n",
    "print('Even friends:')\n",
    "for i in range(1,11,2): #? start from 1, end at 11 & Increment, meaning : I  = i+2 (Last Number)\n",
    "    print(friends_list[i])"
   ]
  },
  {
   "cell_type": "markdown",
   "metadata": {},
   "source": [
    "### **`For Loop Practice - Nested For Loop`**"
   ]
  },
  {
   "cell_type": "code",
   "execution_count": 10,
   "metadata": {},
   "outputs": [
    {
     "name": "stdout",
     "output_type": "stream",
     "text": [
      "Nested for loop - step 1:\n",
      "Lap 1, Track 1\n",
      "Lap 1, Track 2\n",
      "Lap 1, Track 3\n",
      "Lap 1, Track 4\n",
      "Lap 2, Track 1\n",
      "Lap 2, Track 2\n",
      "Lap 2, Track 3\n",
      "Lap 2, Track 4\n",
      "Lap 3, Track 1\n",
      "Lap 3, Track 2\n",
      "Lap 3, Track 3\n",
      "Lap 3, Track 4\n",
      "Lap 4, Track 1\n",
      "Lap 4, Track 2\n",
      "Lap 4, Track 3\n",
      "Lap 4, Track 4\n",
      "\n",
      "Nested for loop - step 2:\n",
      "Lap 1, Track 1\n",
      "Lap 1, Track 2\n",
      "Lap 1, Track 3\n",
      "Lap 1, Track 4\n",
      "Lap 2, Track 1\n",
      "Lap 2, Track 2\n",
      "Lap 2, Track 3\n",
      "Lap 2, Track 4\n",
      "Lap 3, Track 1\n",
      "Lap 3, Track 2\n",
      "Lap 3, Track 3\n",
      "Lap 3, Track 4\n",
      "Lap 4, Track 1\n",
      "Lap 4, Track 2\n",
      "Lap 4, Track 3\n",
      "Lap 4, Track 4\n"
     ]
    }
   ],
   "source": [
    "# Nested for loop - step 1\n",
    "print(\"Nested for loop - step 1:\")\n",
    "for i in range(1, 5):\n",
    "    print(f\"Lap {i}, Track 1\")\n",
    "    print(f\"Lap {i}, Track 2\")\n",
    "    print(f\"Lap {i}, Track 3\")\n",
    "    print(f\"Lap {i}, Track 4\")\n",
    "\n",
    "# Nested for loop - step 2\n",
    "print(\"\\nNested for loop - step 2:\")\n",
    "for i in range(1, 5):\n",
    "    for j in range(1, 5):\n",
    "        print(f\"Lap {i}, Track {j}\")"
   ]
  },
  {
   "cell_type": "markdown",
   "metadata": {},
   "source": [
    "### **`For Loop Practice - Nested For Loop Practice`**"
   ]
  },
  {
   "cell_type": "code",
   "execution_count": 11,
   "metadata": {},
   "outputs": [
    {
     "name": "stdout",
     "output_type": "stream",
     "text": [
      "Alice likes banana\n",
      "Bob likes banana\n",
      "Charlie likes banana\n",
      "Alice likes apple\n",
      "Bob likes apple\n",
      "Charlie likes apple\n",
      "Alice likes mango\n",
      "Bob likes mango\n",
      "Charlie likes mango\n"
     ]
    }
   ],
   "source": [
    "fruits = [\"banana\", \"apple\", \"mango\"]\n",
    "names = [\"Alice\", \"Bob\", \"Charlie\"]\n",
    "\n",
    "# show elements of fruits\n",
    "for fruit in fruits:\n",
    "    for name in names:\n",
    "        print(f\"{name} likes {fruit}\")"
   ]
  },
  {
   "cell_type": "code",
   "execution_count": 12,
   "metadata": {},
   "outputs": [
    {
     "name": "stdout",
     "output_type": "stream",
     "text": [
      "* \n",
      "* * \n",
      "* * * \n",
      "* * * * \n",
      "* * * * * \n"
     ]
    }
   ],
   "source": [
    "# create triangle\n",
    "for i in range(1, 6):\n",
    "    for j in range(1, i + 1):\n",
    "        print(\"*\", end=\" \")\n",
    "    print()"
   ]
  },
  {
   "cell_type": "code",
   "execution_count": 14,
   "metadata": {},
   "outputs": [
    {
     "name": "stdout",
     "output_type": "stream",
     "text": [
      "* * * * * \n",
      "* * * * * \n",
      "* * * * * \n",
      "* * * * * \n",
      "* * * * * \n"
     ]
    }
   ],
   "source": [
    "# create square\n",
    "for i in range(5):\n",
    "    for j in range(5):\n",
    "        print(\"*\", end=\" \")\n",
    "    print()"
   ]
  },
  {
   "cell_type": "markdown",
   "metadata": {},
   "source": [
    "### **`For Loop Practice - For Loop with Dictionary`**\n",
    "\n",
    "- **`method items()`** = dalam sebuah dictionary digunakan untuk mengembalikan nilai dari dictionary berupa key dan values."
   ]
  },
  {
   "cell_type": "code",
   "execution_count": 18,
   "metadata": {},
   "outputs": [
    {
     "name": "stdout",
     "output_type": "stream",
     "text": [
      "The Dark Knight\n",
      "Christopher Nolan\n",
      "2008\n",
      "\n",
      "Access key using for loop:\n",
      "title The Dark Knight\n",
      "director Christopher Nolan\n",
      "year 2008\n",
      "\n",
      "Access key value using for loop and items() method:\n",
      "title : The Dark Knight\n",
      "director : Christopher Nolan\n",
      "year : 2008\n"
     ]
    }
   ],
   "source": [
    "movie = {\"title\": \"The Dark Knight\", \"director\": \"Christopher Nolan\", \"year\": 2008}\n",
    "print(movie[\"title\"])\n",
    "print(movie[\"director\"])\n",
    "print(movie[\"year\"])\n",
    "\n",
    "# access key using for loop\n",
    "print(\"\\nAccess key using for loop:\")\n",
    "for key in movie:\n",
    "    print(key, movie[key])\n",
    "\n",
    "# access key value using for loop and items() method\n",
    "print(\"\\nAccess key value using for loop and items() method:\")\n",
    "for key, value in movie.items():\n",
    "  print(str(key) +  \" : \" + str(value))"
   ]
  },
  {
   "cell_type": "markdown",
   "metadata": {},
   "source": [
    "### **`For Loop Exercise`**\n"
   ]
  },
  {
   "cell_type": "code",
   "execution_count": null,
   "metadata": {},
   "outputs": [
    {
     "name": "stdout",
     "output_type": "stream",
     "text": [
      "3\n",
      "6\n",
      "9\n",
      "12\n",
      "15\n",
      "18\n",
      "21\n",
      "24\n",
      "27\n",
      "30\n",
      "33\n",
      "36\n",
      "39\n",
      "42\n",
      "45\n",
      "48\n",
      "51\n",
      "54\n",
      "57\n",
      "60\n",
      "63\n",
      "66\n",
      "69\n",
      "72\n",
      "75\n",
      "78\n",
      "81\n",
      "84\n",
      "87\n",
      "90\n",
      "93\n",
      "96\n",
      "99\n"
     ]
    }
   ],
   "source": [
    "# Task 1: create looping with multiple 3 numbers from 1 to 100\n",
    "for i in range(1, 101):\n",
    "    if i % 3 == 0:\n",
    "        print(i)"
   ]
  },
  {
   "cell_type": "code",
   "execution_count": 20,
   "metadata": {},
   "outputs": [
    {
     "name": "stdout",
     "output_type": "stream",
     "text": [
      "Flavor: chocolate\n",
      "Topping: sprinkles\n",
      "\n",
      "Flavor: vanilla\n",
      "Topping: chocolate sauce\n",
      "\n",
      "Flavor: strawberry\n",
      "Topping: whipped cream\n",
      "\n"
     ]
    }
   ],
   "source": [
    "# Task 2:\n",
    "flavors = [\"chocolate\", \"vanilla\", \"strawberry\"]\n",
    "toppings = [\"sprinkles\", \"chocolate sauce\", \"whipped cream\"]\n",
    "\n",
    "# choose 3 options from each list\n",
    "for i in range(3):\n",
    "    print(\"Flavor:\", flavors[i])\n",
    "    print(\"Topping:\", toppings[i])\n",
    "    print()"
   ]
  }
 ],
 "metadata": {
  "kernelspec": {
   "display_name": "Python 3",
   "language": "python",
   "name": "python3"
  },
  "language_info": {
   "codemirror_mode": {
    "name": "ipython",
    "version": 3
   },
   "file_extension": ".py",
   "mimetype": "text/x-python",
   "name": "python",
   "nbconvert_exporter": "python",
   "pygments_lexer": "ipython3",
   "version": "3.12.6"
  }
 },
 "nbformat": 4,
 "nbformat_minor": 2
}
