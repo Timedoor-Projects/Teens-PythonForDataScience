{
 "cells": [
  {
   "cell_type": "markdown",
   "id": "019efb0d",
   "metadata": {},
   "source": [
    "### **`Solve the Problem`**"
   ]
  },
  {
   "cell_type": "code",
   "execution_count": 1,
   "id": "618f7486",
   "metadata": {},
   "outputs": [
    {
     "name": "stdout",
     "output_type": "stream",
     "text": [
      "The probability of rolling a 6 in one die roll: 0.1667\n"
     ]
    }
   ],
   "source": [
    "import numpy as np\n",
    "\n",
    "# Define the event and sample space as numpy arrays\n",
    "event = np.array([6])\n",
    "sample_space = np.array([1, 2, 3, 4, 5, 6])\n",
    "\n",
    "# Calculate the probability of the event\n",
    "probability = np.count_nonzero(event == sample_space) / len(sample_space)\n",
    "print(f\"The probability of rolling a 6 in one die roll: {probability:.4f}\")"
   ]
  },
  {
   "cell_type": "code",
   "execution_count": 2,
   "id": "963ce926",
   "metadata": {},
   "outputs": [
    {
     "name": "stdout",
     "output_type": "stream",
     "text": [
      "The probability of all coins showing heads: 0.1250\n"
     ]
    }
   ],
   "source": [
    "import numpy as np\n",
    "\n",
    "# Define the event and sample space as numpy arrays\n",
    "event = np.array([1, 1, 1])  # 1 represents head, 0 represents tail\n",
    "sample_space = np.array([[0, 0, 0], [0, 0, 1], [0, 1, 0], [0, 1, 1],\n",
    "                        [1, 0, 0], [1, 0, 1], [1, 1, 0], [1, 1, 1]])\n",
    "# Calculate the probability of all coins showing heads\n",
    "probability = np.count_nonzero(np.all(event == sample_space, axis=1)) / len(sample_space)\n",
    "\n",
    "print(f\"The probability of all coins showing heads: {probability:.4f}\")"
   ]
  },
  {
   "cell_type": "code",
   "execution_count": 3,
   "id": "9c15c97b",
   "metadata": {},
   "outputs": [
    {
     "name": "stdout",
     "output_type": "stream",
     "text": [
      "The probability of all coins showing heads: 0.1250\n"
     ]
    }
   ],
   "source": [
    "import numpy as np\n",
    "\n",
    "# Define the event and sample space as numpy arrays\n",
    "event = np.array([1, 1, 1])  # 1 represents head, 0 represents tail\n",
    "sample_space = np.array([[0, 0, 0], [0, 0, 1], [0, 1, 0], [0, 1, 1],\n",
    "                        [1, 0, 0], [1, 0, 1], [1, 1, 0], [1, 1, 1]])\n",
    "# Calculate the probability of all coins showing heads\n",
    "probability = (1/2) * (1/2) * (1/2)\n",
    "\n",
    "print(f\"The probability of all coins showing heads: {probability:.4f}\")"
   ]
  },
  {
   "cell_type": "markdown",
   "id": "15e6477a",
   "metadata": {},
   "source": [
    "### **`Dice Simulation - Level 1`**"
   ]
  },
  {
   "cell_type": "code",
   "execution_count": 4,
   "id": "0d447427",
   "metadata": {},
   "outputs": [
    {
     "name": "stdout",
     "output_type": "stream",
     "text": [
      "The probability by this simulation is: 0.719\n"
     ]
    }
   ],
   "source": [
    "import numpy as np\n",
    "\n",
    "# Define the event and sample space as numpy arrays\n",
    "event = np.array([1, 1, 1])  # 1 represents head, 0 represents tail\n",
    "sample_space = np.array([[0, 0, 0], [0, 0, 1], [0, 1, 0], [0, 1, 1],\n",
    "                        [1, 0, 0], [1, 0, 1], [1, 1, 0], [1, 1, 1]])\n",
    "\n",
    "dice = [1, 2, 3, 4, 5, 6]\n",
    "sum_results = []\n",
    "\n",
    "number_iterations = 1000\n",
    "\n",
    "# Setting a random seed just for reproducibility\n",
    "np.random.seed(42)\n",
    "\n",
    "for i in range(number_iterations):        # (1) lakukan perulangan sebanyak number_iterations\n",
    "    # Throw the first dice\n",
    "    throw_1 = np.random.choice(dice)\n",
    "    # Throw the second dice\n",
    "    throw_2 = np.random.choice(dice)      # (2) lempar dadu ke-2\n",
    "    sum_throw = throw_1 + throw_2         # (3) jumlahkan dadu pertama dan kedua\n",
    "    sum_results.append(sum_throw)         # (4) masukkan hasil ke list sum_results\n",
    "\n",
    "greater_5_count = 0\n",
    "\n",
    "for x in sum_results:\n",
    "    if x > 5:                             # (5) kondisi jika hasil > 5\n",
    "        greater_5_count += 1\n",
    "\n",
    "probability = greater_5_count / len(sum_results)\n",
    "print(f\"The probability by this simulation is: {probability}\")\n"
   ]
  },
  {
   "cell_type": "markdown",
   "id": "9ac4769e",
   "metadata": {},
   "source": [
    "### **`Dice Simulation - Level 2`**"
   ]
  },
  {
   "cell_type": "code",
   "execution_count": 5,
   "id": "c09eb10f",
   "metadata": {},
   "outputs": [
    {
     "data": {
      "image/png": "[encoded data removed]",
      "text/plain": [
       "<Figure size 640x480 with 1 Axes>"
      ]
     },
     "metadata": {},
     "output_type": "display_data"
    }
   ],
   "source": [
    "import numpy as np\n",
    "import matplotlib.pyplot as plt\n",
    "\n",
    "num_throws = 10000\n",
    "dice_rolls_1 = np.random.choice(np.arange(1, 7), size=num_throws)\n",
    "dice_rolls_2 = np.random.choice(np.arange(1, 7), size=num_throws)\n",
    "\n",
    "# Calculate the sum of each pair of throws\n",
    "sum_of_rolls = []\n",
    "for i in range(num_throws):                           # (1) looping sebanyak num_throws\n",
    "    sum_of_rolls.append(dice_rolls_1[i] + dice_rolls_2[i])\n",
    "\n",
    "# Calculate the distribution\n",
    "unique, counts = np.unique(sum_of_rolls, return_counts=True)\n",
    "distribution = counts / len(sum_of_rolls)             # (2) counts dibagi banyak elemen sum_of_rolls\n",
    "\n",
    "# Plot the Distribution\n",
    "plt.bar(unique, distribution, align='center', alpha=0.7)\n",
    "plt.xlabel('Sum of Two Throws')\n",
    "plt.ylabel('Probability')\n",
    "plt.title('Probability Mass Function of Sum of Two Dice Throws')\n",
    "plt.xticks(np.arange(2, 13))\n",
    "plt.grid(axis='y')\n",
    "plt.show()\n"
   ]
  },
  {
   "cell_type": "markdown",
   "id": "559bff42",
   "metadata": {},
   "source": [
    "### **`Dice Simulation - Level 3`**"
   ]
  },
  {
   "cell_type": "code",
   "execution_count": 6,
   "id": "6210e8e6",
   "metadata": {},
   "outputs": [
    {
     "data": {
      "image/png": "[encoded data removed]",
      "text/plain": [
       "<Figure size 640x480 with 1 Axes>"
      ]
     },
     "metadata": {},
     "output_type": "display_data"
    }
   ],
   "source": [
    "import numpy as np\n",
    "import matplotlib.pyplot as plt\n",
    "\n",
    "sides = np.array([1, 2, 3, 4,5,6])\n",
    "probabilities = np.array([1/8, 2/8, 1/8, 1/8,2/8,1/8])\n",
    "\n",
    "# Setting a random seed just for reproducibility\n",
    "np.random.seed(42)\n",
    "# Simulate throwing the loaded dice two times and recording the sum\n",
    "num_throws = 10000\n",
    "dice_rolls_1 = np.random.choice(sides, size=num_throws, p=probabilities)\n",
    "dice_rolls_2 = np.random.choice(sides, size=num_throws, p=probabilities)\n",
    "sum_of_rolls = dice_rolls_1 + dice_rolls_2\n",
    "\n",
    "# Calculate the distribution for the sum\n",
    "unique, counts = np.unique(sum_of_rolls, return_counts=True)\n",
    "distribution = counts / num_throws\n",
    "\n",
    "# Plot the distribution\n",
    "plt.bar(unique, distribution, align='center', alpha=0.7)\n",
    "plt.xlabel('Sum of Two Throws')\n",
    "plt.ylabel('Probability')\n",
    "plt.title('Probability Mass Function of Sum of Two Throws ')\n",
    "plt.xticks(np.arange(2, 13))\n",
    "plt.grid(axis='y')\n",
    "plt.show()"
   ]
  },
  {
   "cell_type": "markdown",
   "id": "5b78a545",
   "metadata": {},
   "source": [
    "### **`Coding: Birthday Problem`**"
   ]
  },
  {
   "cell_type": "code",
   "execution_count": 7,
   "id": "dc2c74d5",
   "metadata": {},
   "outputs": [
    {
     "name": "stdout",
     "output_type": "stream",
     "text": [
      "[365 364 363 362 361 360 359 358 357 356 355 354 353 352 351 350 349 348\n",
      " 347 346]\n",
      "[1.         0.99726027 0.99452055 0.99178082 0.9890411  0.98630137\n",
      " 0.98356164 0.98082192 0.97808219 0.97534247 0.97260274 0.96986301\n",
      " 0.96712329 0.96438356 0.96164384 0.95890411 0.95616438 0.95342466\n",
      " 0.95068493 0.94794521]\n"
     ]
    }
   ],
   "source": [
    "import numpy as np\n",
    "import matplotlib.pyplot as plt\n",
    "\n",
    "def computeBirthdayProb(k):\n",
    "  if k == 0 or k==1:\n",
    "      return 0\n",
    "  variation=np.arange(365,365-k,-1)\n",
    "  variation = variation / 365\n",
    "  prob_no_match=1\n",
    "  for i in variation:\n",
    "      prob_no_match = prob_no_match*i\n",
    "    \n",
    "  return 1-prob_no_match\n",
    "\n",
    "test_a = np.arange(365, 365-20, -1)\n",
    "test_b = test_a / 365\n",
    "print(test_a )\n",
    "print(test_b )"
   ]
  },
  {
   "cell_type": "code",
   "execution_count": 8,
   "id": "d8abf754",
   "metadata": {},
   "outputs": [
    {
     "data": {
      "text/plain": [
       "[0,\n",
       " np.float64(0.002739726027397249),\n",
       " np.float64(0.008204165884781345),\n",
       " np.float64(0.016355912466550215),\n",
       " np.float64(0.02713557369979347),\n",
       " np.float64(0.040462483649111425),\n",
       " np.float64(0.056235703095975365),\n",
       " np.float64(0.07433529235166902),\n",
       " np.float64(0.09462383388916673),\n",
       " np.float64(0.11694817771107768),\n",
       " np.float64(0.14114137832173312),\n",
       " np.float64(0.1670247888380645),\n",
       " np.float64(0.19441027523242949),\n",
       " np.float64(0.2231025120049731),\n",
       " np.float64(0.25290131976368646),\n",
       " np.float64(0.2836040052528501),\n",
       " np.float64(0.3150076652965609),\n",
       " np.float64(0.3469114178717896),\n",
       " np.float64(0.37911852603153695),\n",
       " np.float64(0.41143838358058027)]"
      ]
     },
     "execution_count": 8,
     "metadata": {},
     "output_type": "execute_result"
    }
   ],
   "source": [
    "number_of_people = 20\n",
    "number_of_people_list = list(range(1,number_of_people+1))\n",
    "dist = []\n",
    "for k in number_of_people_list:\n",
    "  dist.append(computeBirthdayProb(k) )\n",
    "\n",
    "dist"
   ]
  }
 ],
 "metadata": {
  "kernelspec": {
   "display_name": "Python 3",
   "language": "python",
   "name": "python3"
  },
  "language_info": {
   "codemirror_mode": {
    "name": "ipython",
    "version": 3
   },
   "file_extension": ".py",
   "mimetype": "text/x-python",
   "name": "python",
   "nbconvert_exporter": "python",
   "pygments_lexer": "ipython3",
   "version": "3.13.7"
  }
 },
 "nbformat": 4,
 "nbformat_minor": 5
}
